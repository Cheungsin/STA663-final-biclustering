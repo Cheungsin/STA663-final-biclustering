{
 "cells": [
  {
   "cell_type": "code",
   "execution_count": 53,
   "id": "gorgeous-authentication",
   "metadata": {
    "ExecuteTime": {
     "end_time": "2021-04-28T02:39:56.747977Z",
     "start_time": "2021-04-28T02:39:56.743791Z"
    }
   },
   "outputs": [],
   "source": [
    "import scipy.linalg as la\n",
    "import numpy as np\n",
    "from sparsesvd import sparsesvd \n",
    "from scipy.sparse import csc_matrix\n",
    "import pandas as pd \n",
    "from functools import reduce\n",
    "import seaborn as sns\n",
    "from sklearn.decomposition import SparsePCA\n",
    "import numba\n",
    "from numba import jit"
   ]
  },
  {
   "cell_type": "markdown",
   "id": "changing-latvia",
   "metadata": {},
   "source": [
    "# Optimization and Demonstration of Biclustering using Sparse Singular Value Decomposition\n",
    "\n",
    "#### Group members: \n",
    "\n",
    "Chengxin Yang: algorithm coding, algorithm optimization, algorithm comparison, simulated data implementation, real data set application\n",
    "\n",
    "Guanqi Zeng: background, abstract, writing up report, description of algorithm, algorithm coding, preparing the git repository"
   ]
  },
  {
   "cell_type": "markdown",
   "id": "perceived-warning",
   "metadata": {},
   "source": [
    "#### GitHub link and installation instructions\n",
    "\n",
    "The github repository is on https://github.com/GuanqizEng/STA663-final-biclustering\n",
    "\n",
    "Please install it by the commend: \n",
    "\n",
    "**pip install git+https://github.com/GuanqizEng/STA663-final-biclustering.git@main**."
   ]
  },
  {
   "cell_type": "markdown",
   "id": "phantom-tonight",
   "metadata": {},
   "source": [
    "## Abstract\n",
    "\n",
    "Biclustering is a method to simultaneously find highly associated sets of rows and columns for high-dimension data. Particularly, for high-dimension low sample size (HDLSS) data, we use biclustering to identify the checkerboard patterns. Sparse singular value decomposition is a new tool for biclustering. It adds the sparsity-inducing penalty to obtain sparse left and right singular vectors. Adaptive lasso penalty is chosen for this paper. The SSVD algorithm is then optimized by numba. After applying SSVD on one simulated data set and two real data sets, we compare its performane to standard SVD and sparse PCA (SPCA).\n",
    "\n",
    "keywords: HDLSS, checkerboard patterns, Singular Value Decomposition, sparsity-inducing penalty, SPCA\n",
    "\n",
    "## Background\n",
    "\n",
    "We chose Biclustering via Sparse Singular Value Decomposition by Mihee Lee, Haipeng Shen, Jianhua Z. Huang, and J. S. Marron published in 2010. This paper provides a new tool, sparse singular value decomposition, for biclustering. Basically, biclustering aims at identifying simultaneously the sets of rows and sets of columns that are significantly associated. The checkerboard patterns found by biclusteirng can better help us to interpret the structure of high-dimension data sets, especially HDLSS data sets. \n",
    "\n",
    "The application of biclustering SSVD covers a wide realm. It can be applied to microarray gene expressions to recognize subclusters of particular types of cancer while identify the subjects at the same time. It can also be applied to text categorization to further explore the relationship between texts. In medical imaging, biclustering can help recognize benign and malicious breast tumors through sonographic breast images.\n",
    "\n",
    "Compared to other SVD-based biclustering tools, such as RoBiC, Plaid, SVD, and SPCA, SSVD has a much better performace in classification. However, the iterative method makes SSVD time-consuimg. In this paper, we used some approaches to improve its speed.\n",
    "\n",
    "In this research, we clarify and implement the algorithm of SSVD. Then, we perform optimizations and apply the algorithm on a lung cancer data and a breast cancerdata set to test the performance. We also compare its performance to SVD and sparse PCA."
   ]
  },
  {
   "cell_type": "markdown",
   "id": "nutritional-modem",
   "metadata": {},
   "source": [
    "## Description of Algorithm\n",
    "\n",
    "The key idea of the algorithm is to extend singular value decomposition with sparsity-inducing penalty to find the best lower-rank matrix approximation with sparse singular vectors. In the paper, the sparsity-inducing penalty refers to the adaptive lasso penalty with data-driven weights. As we need to find the sparse vectors $\\boldsymbol u$ and $\\boldsymbol v$, we put penalty parameters and penalties on both of them. We use BIC to find the optimal penalty parameters.\n",
    "\n",
    "To illustrate, the need to minimize \n",
    "$$||\\mathbf X - s \\boldsymbol u \\boldsymbol v^{T}||^2_{F} + s \\lambda_{u} \\sum^{n}_{i = 1} w_{1,i} |u_{i}| + s \\lambda_{v} \\sum^{d}_{j = 1} w_{2,j} |v_{j}|$$\n",
    "\n",
    "where:\n",
    "$\\mathbf X$ denotes the data matrix, \n",
    "$s$ is a positive scalar, \n",
    "$\\boldsymbol u$ is a unit n-vector,\n",
    "$\\boldsymbol v$ is a unit d-vector,\n",
    "$w_{1}$ and $w_{2}$ are data-driven weights,\n",
    "$\\lambda_{u}$ and $\\lambda_{v}$ are lasso penalty parameters calculated by BIC respectively.\n",
    "\n",
    "To illustrate the process of finding $\\lambda_{u}$ and $\\lambda_{v}$, \n",
    "$$BIC(\\lambda_v) = \\frac{||\\boldsymbol Y - \\hat{\\boldsymbol Y}||^2}{nd \\cdot \\hat{\\sigma}^2} + \\frac{log(nd)}{nd}\\hat{df}(\\lambda_{v})$$\n",
    "\n",
    "$$BIC(\\lambda_u) = \\frac{||\\boldsymbol Z - \\hat{\\boldsymbol Z}||^2}{nd \\cdot \\hat{\\sigma}^2} + \\frac{log(nd)}{nd}\\hat{df}(\\lambda_{u})$$\n",
    "\n",
    "where $\\hat{df}(\\lambda_{v})$ and $\\hat{df}(\\lambda_{u})$ are the degrees of sparsity of $\\boldsymbol v$ and $\\boldsymbol u$ respectively with penalty parameters $\\lambda v$ and $\\lambda u$. The degree of sparsity is the number of zero's in sparse singular vector. We choose $\\lambda_{u}$ and $\\lambda_{v}$ that minimize $BIC(\\lambda_u)$ and $BIC(\\lambda_v)$. $\\boldsymbol Y = (\\mathbf x_{1}^{T},..., \\mathbf x_{d}^{T})^{T} \\in R^{nd}$ where $\\mathbf x_{j} represents the jth column of \\boldsymbol X$, and $\\boldsymbol Z = (\\mathbf x_{(1)}^{T},..., \\mathbf x_{(n)}^{T})^{T} \\in R^{nd}$ where $\\mathbf x_{i} represents the ith row of \\boldsymbol X$. Their estimates are the low-rank approximations."
   ]
  },
  {
   "cell_type": "markdown",
   "id": "adjustable-pleasure",
   "metadata": {},
   "source": [
    "Finally, we illustrate the iterative SSVD algorithm. The demonstration here is for rank-one matrix approximation.\n",
    "\n",
    "Step 1: \n",
    "Initialize $s, \\boldsymbol u, \\boldsymbol v$ with standard SVD to $\\boldsymbol X$, denote them as $s_{old}, \\boldsymbol u_{old}, \\boldsymbol v_{old}$\n",
    "\n",
    "Step 2: \n",
    "(a)Update $\\boldsymbol v_{new}$\n",
    "\n",
    "Find $\\lambda_{v}$. Calculate $\\boldsymbol{\\tilde{v}}$ where $\\tilde{v_{j}} = sign\\{(\\boldsymbol X^{T} \\boldsymbol u_{old})_{j}\\}(|(\\boldsymbol X^{T} \\boldsymbol u_{old})_{j}| - \\lambda_{v}w_{2,j}/2)_{+}$. Set $s = \\|\\boldsymbol{ \\tilde {v}}\\|$. \n",
    "\n",
    "Then, $\\boldsymbol{ v_{new}} = \\boldsymbol{ \\tilde {v}}$.\n",
    "\n",
    "(b)Update $\\boldsymbol u_{new}$\n",
    "\n",
    "Find $\\lambda_{u}$. Calculate $\\boldsymbol{\\tilde{u}}$ where $\\tilde{u_{i}} = sign\\{(\\boldsymbol X^{T} \\boldsymbol v_{new})_{i}\\}(|(\\boldsymbol X^{T} \\boldsymbol v_{new})_{i}| - \\lambda_{u}w_{1,i}/2)_{+}$. Set $s = \\|\\boldsymbol{ \\tilde {u}}\\|$. \n",
    "\n",
    "Then, $\\boldsymbol{ u_{new}} = \\boldsymbol{ \\tilde {u}}$. Set $\\boldsymbol{ u_{old}} = \\boldsymbol{ u_{new}}$.\n",
    "\n",
    "(c)Repeat (a) and (b) until the norm between the current $\\boldsymbol v_{new}$ and last $\\boldsymbol v_{new}$ and that between the current $\\boldsymbol u_{new}$ and last $\\boldsymbol u_{new}$ are smaller than tolerance.\n",
    "\n",
    "Step 3:\n",
    "\n",
    "Set $\\boldsymbol u = \\boldsymbol u_{new}$, $\\boldsymbol v = \\boldsymbol v_{new}$, $s = \\boldsymbol u^{T}_{new} \\boldsymbol X \\boldsymbol v_{new}$."
   ]
  },
  {
   "cell_type": "markdown",
   "id": "located-tokyo",
   "metadata": {},
   "source": [
    "## Implementation and Optimization for Performance"
   ]
  },
  {
   "cell_type": "markdown",
   "id": "interracial-weight",
   "metadata": {},
   "source": [
    "In this section, we implement an improved version of the algorithm in the paper, and then speed it up by numba."
   ]
  },
  {
   "cell_type": "markdown",
   "id": "subjective-radar",
   "metadata": {},
   "source": [
    "### Implementation with improvments\n",
    "\n",
    "First, we implement the basic algorithm. Besides coding according to the description in the paper, we improve some calculations to make it run faster.\n",
    "\n",
    "There are three things we modified to reduce the time consumption. \n",
    "\n",
    "First, instead of using the Kronecker product for unpenalized residual, we used trace that gives the same result with a faster speed. To illustrate, for calculating $\\|\\boldsymbol{Y} - (\\boldsymbol{I}_d \\bigotimes \\boldsymbol{ u}) \\tilde{\\boldsymbol v} \\|^2$, we replace the fitted value by $\\text{trace}((\\boldsymbol{X} - \\boldsymbol{u} \\tilde {\\boldsymbol{v} ^{T}})(\\boldsymbol{X} - \\boldsymbol{u} \\tilde {\\boldsymbol{v}^{T}})^{T})$. Similarly, we replace $\\|\\boldsymbol{Z} - (\\boldsymbol{I}_n \\bigotimes \\boldsymbol{ v}) \\tilde{\\boldsymbol u} \\|^2$ by $\\text{trace}((\\boldsymbol{X} - \\tilde {\\boldsymbol{u}} \\boldsymbol{v ^{T}})(\\boldsymbol{X} - \\tilde{\\boldsymbol{u}} \\boldsymbol{v ^{T}})^{T})$.\n",
    "\n",
    "Second, for calculating BIC, we use trace to obtain $\\hat \\sigma^2$, which is the estimate of the error variane from the model. To illustrate, $\\hat{\\sigma}_2 = \\text{trace}((\\boldsymbol{X} - s \\boldsymbol{u}\\boldsymbol{v})(\\boldsymbol{X} - s \\boldsymbol{u}\\boldsymbol{v})^{T})/(nd-d)$.\n",
    "\n",
    "Third, for the range of $\\lambda_v$ and $\\lambda_u$, the original algorithm chooses a grid with static values. However, we notice that we can write $2 (\\mathbf X^{T} \\boldsymbol u)/ w_{2} > \\lambda_v$ and $2 (\\mathbf X^{T} \\boldsymbol v)/ w_{1} > \\lambda_u$. For each iteration of finding the minimum $BIC(\\lambda_u)$ and $BIC(\\lambda_v)$, $\\boldsymbol u$ and $\\boldsymbol v$ are constant. Therefore, with the inequalities, it makes sense to adjust the range of possible $\\lambda_v$ and $\\lambda_u$, so that we do not need to calculate BIC with unnecessary $\\lambda$ values. Therefore, we take a dynamic range of values for the penalty parameters according to the value of $2 (\\mathbf X^{T} \\boldsymbol u)/ w_{2} > \\lambda_v$ and $2  (\\mathbf X^{T} \\boldsymbol v)/ w_{1} > \\lambda_u$."
   ]
  },
  {
   "cell_type": "code",
   "execution_count": 60,
   "id": "elegant-vietnamese",
   "metadata": {
    "ExecuteTime": {
     "end_time": "2021-04-28T02:43:01.049469Z",
     "start_time": "2021-04-28T02:43:01.013200Z"
    }
   },
   "outputs": [],
   "source": [
    "def BICv(X, u, v_tilde, sigma2_hat_v, n, d): #it's the nd times of the original bic\n",
    "    \"\"\"\n",
    "    This function return the n*d times of the original BIC.\n",
    "    Only used for internal use for the SSVD function.\n",
    "    It's used when updating v.\n",
    "    \"\"\"\n",
    "    #df = np.sum(np.abs(X.T @ u) > lamd*w/2)\n",
    "    df = np.sum(np.abs(v_tilde) > 1e-08)\n",
    "    bic_nd = np.sum((X - u @ v_tilde.T)**2) / (sigma2_hat_v) + np.log(n*d) * df\n",
    "    #uvt = u @ v_tilde.T\n",
    "    #bic_nd = np.trace((X - uvt) @ (X - uvt).T) / (sigma2_hat_v) + np.log(n*d) * df\n",
    "    return bic_nd\n",
    "\n",
    "def BICu(X, v, u_tilde, sigma2_hat_u, n, d):\n",
    "    \"\"\"\n",
    "    This function return the n*d times of the original BIC.\n",
    "    Only used for internal use for the SSVD function.\n",
    "    It's used when updating u.\n",
    "    \"\"\"\n",
    "    df = np.sum(np.abs(u_tilde) > 1e-08)\n",
    "    #df = np.sum(np.abs(XU) > lamd*omega/2)\n",
    "    bic_nd = np.sum((X - u_tilde @ v.T)**2) / (sigma2_hat_u) + np.log(n*d) * df\n",
    "    #uvt = u_tilde @ v.T\n",
    "    #bic_nd = np.trace((X - uvt) @ (X - uvt).T) / (sigma2_hat_u) + np.log(n*d) * df\n",
    "    return bic_nd\n",
    "\n",
    "def opt_lambda_v(X, lamd_grid, Xu_nonzero, w2_nonzero, u, sigma2_hat_v, n, d, index_v):\n",
    "    \"\"\"\n",
    "    This function return best lambda that minimize the correponding BIC.\n",
    "    Only used for internal use for the SSVD function.\n",
    "    It's used when updating v.\n",
    "    \"\"\"\n",
    "    \n",
    "    BICs = np.ones(lamd_grid.shape[0])\n",
    "    \n",
    "    for i in range(BICs.shape[0]):\n",
    "        v_tilde_nonzero = np.sign(Xu_nonzero) * (np.abs(Xu_nonzero) >= lamd_grid[i]*w2_nonzero/2) * (np.abs(Xu_nonzero) - lamd_grid[i]*w2_nonzero/2)\n",
    "        v_tilde = np.zeros((d,1))\n",
    "        v_tilde[index_v] = v_tilde_nonzero\n",
    "        BICs[i] = BICv(X, u, v_tilde, sigma2_hat_v, n, d)\n",
    "    #BICs = list(map(lambda x: BIC(x, w, u, v_tilde, Y, sigma2_hat_v, n, d), lamd_grid))\n",
    "    lamd_min = np.argmin(BICs)\n",
    "    return lamd_grid[lamd_min]\n",
    "\n",
    "def opt_lambda_u(X, lamd_grid, Xv_nonzero, w1_nonzero, v, sigma2_hat_u, n, d, index_u):\n",
    "    \"\"\"\n",
    "    This function return best lambda that minimize the correponding BIC.\n",
    "    Only used for internal use for the SSVD function.\n",
    "    It's used when updating u.\n",
    "    \"\"\"\n",
    "    \n",
    "    BICs = np.ones(lamd_grid.shape[0])\n",
    "    \n",
    "    for i in range(BICs.shape[0]):\n",
    "        u_tilde_nonzero = np.sign(Xv_nonzero) * (np.abs(Xv_nonzero) >= lamd_grid[i]*w1_nonzero/2) * (np.abs(Xv_nonzero) - lamd_grid[i]*w1_nonzero/2)\n",
    "        u_tilde = np.zeros((n,1))\n",
    "        u_tilde[index_u] = u_tilde_nonzero\n",
    "        BICs[i] = BICu(X, v, u_tilde, sigma2_hat_u, n, d)\n",
    "    \n",
    "    #BICs = list(map(lambda x: BIC(x, w, v, u_tilde, Z, sigma2_hat_u, n, d), lamd_grid))\n",
    "    lamd_min = np.argmin(BICs)\n",
    "    return lamd_grid[lamd_min]\n",
    "\n",
    "def uv_renew(u, s, v, X, gamma1, gamma2):\n",
    "    \"\"\"\n",
    "    This function will return the updated u, v and the corresponding lambdas.\n",
    "    Only for internal use for the SSVD function.\n",
    "    \"\"\"\n",
    "    \n",
    "    n,d = X.shape\n",
    "    u = u.reshape((n,1))\n",
    "    v = v.reshape((d,1))\n",
    "    SSTO = np.sum(X**2)\n",
    "    \n",
    "    ## first, update v\n",
    "    \n",
    "    # compute the weights, which are OLS for v (Xu is also the ols)\n",
    "    Xu = X.T @ u # this is also the v_tilde in the paper, Xu is (d,1)\n",
    "    w2 = np.abs(Xu)**(-gamma2)\n",
    "    \n",
    "    # compute the estimated sigma2 hat for v\n",
    "    #sigma2_hat_v = np.sum((Y - Yhat)**2) / (n*d - d) \n",
    "    uvt = u @ v.T\n",
    "    sigma2_hat_v = np.trace((X - s*uvt)@(X - s*uvt).T) / (n*d - d) \n",
    "    #sigma2_hat_v = np.abs(SSTO - sum(Xu**2)) / (n*d - d) \n",
    "    \n",
    "    # then, find the possible lambdas for v\n",
    "    # notice that, equivantly, we can write 2 * (X.T @ u) / w2 > lambda_v, and 2 * (X.T @ v) / w1 > lambda_u\n",
    "    # thus, it makes more sense to search different lambdas according to the values of (X.T @ u)/w2 or (X.T @ v)/w1\n",
    "    index_v = np.where(w2 < 1e8) # the index where Xu is non-zero. Out of these values, the v will almost be zero.\n",
    "    index_v = index_v[0]\n",
    "    Xu_nonzero = Xu[index_v]\n",
    "    w2_nonzero = w2[index_v]\n",
    "    lamd_grid_v = 2 * Xu_nonzero / w2_nonzero\n",
    "    #lamd_grid_v =  Xu[index_v] / w2[index_v]\n",
    "    lamd_grid_v = np.unique(np.append(0, np.abs(lamd_grid_v)))\n",
    "    lamd_grid_v.sort()\n",
    "    lamd_grid_v = lamd_grid_v[0:-1]\n",
    "    lamd_grid_v = np.r_[lamd_grid_v, np.linspace(0, lamd_grid_v[-1], num = 50)]\n",
    "    \n",
    "    # find the optimized lambda for v\n",
    "    lamd_v = opt_lambda_v(X, lamd_grid_v, Xu_nonzero, w2_nonzero, u, sigma2_hat_v, n, d, index_v)\n",
    "    \n",
    "    # update v\n",
    "    sig_v = np.sign(Xu)\n",
    "    v_new = sig_v * (np.abs(Xu) - lamd_v*w2/2) * (np.abs(Xu) >= lamd_v*w2/2)\n",
    "    v_new = v_new / la.norm(v_new)\n",
    "    \n",
    "    ## then, update the u\n",
    "    \n",
    "    # compute the weights for u\n",
    "    Xvnew = X @ v_new # this is also the u_tilde in the paper, Xvnew is (n,1)\n",
    "    w1 = np.abs(Xvnew)**(-gamma1)\n",
    "    \n",
    "    # compute the estimated sigma2 hat for u\n",
    "    uvt = u @ v_new.T\n",
    "    sigma2_hat_u = np.trace((X - s*uvt)@(X - s*uvt).T) / (n*d - d)\n",
    "    #sigma2_hat_u = np.abs(SSTO - sum(Xvnew**2)) / (n*d - n) \n",
    "    \n",
    "    # then, find the possible lambdas for u\n",
    "    index_u = np.where(w1 < 1e8)\n",
    "    index_u = index_u[0]\n",
    "    Xv_nonzero = Xvnew[index_u]\n",
    "    w1_nonzero = w1[index_u]\n",
    "    lamd_grid_u = 2 * Xv_nonzero / w1_nonzero\n",
    "    lamd_grid_u = np.unique(np.append(0, np.abs(lamd_grid_u)))\n",
    "    lamd_grid_u.sort()\n",
    "    lamd_grid_u = lamd_grid_u[0:-1]\n",
    "    lamd_grid_u = np.r_[lamd_grid_u, np.linspace(0, lamd_grid_u[-1], num = 50)]\n",
    "    \n",
    "    # find the optimized lambda for u\n",
    "    lamd_u = opt_lambda_u(X, lamd_grid_u, Xv_nonzero, w1_nonzero, v_new, sigma2_hat_u, n, d, index_u)\n",
    "    \n",
    "    # update u\n",
    "    sig_u = np.sign(Xvnew)\n",
    "    #u_new = sig_u * (np.abs(Xvnew) - lamd_u*w1/2) * (np.abs(Xvnew) >= lamd_u*w1/2) / la.norm(Xvnew)\n",
    "    u_new = sig_u * (np.abs(Xvnew) - lamd_u*w1/2) * (np.abs(Xvnew) >= lamd_u*w1/2)\n",
    "    u_new = u_new / la.norm(u_new)\n",
    "    \n",
    "    return v_new, u_new, lamd_v, lamd_u\n",
    "\n",
    "def SSVD(X, gamma1, gamma2, max_iter = 100, tol = 1e-05):\n",
    "    \"\"\"\n",
    "    This function returns the rank 1 approximation for a sparse matrix.\n",
    "    \n",
    "    X: the input matrix\n",
    "    gamma1: known power parameter for v\n",
    "    gamma2: known power parameter for u\n",
    "    max_iter: max iteration\n",
    "    tol: tolerence. If the steps between old u and v and the new ones are less than tol, then it stops.\n",
    "    \n",
    "    return: (number of iter, u, v, s, lambda_u, lambda_v)\n",
    "    \"\"\"\n",
    "    \n",
    "    import scipy.linalg as la\n",
    "    import numpy as np\n",
    "    from sparsesvd import sparsesvd \n",
    "\n",
    "    #first, get the stuffs in step 1\n",
    "    ut, s, vt = sparsesvd(csc_matrix(X), k = 1) # the returned vectors are all with 1 row\n",
    "    u_curr = ut.T \n",
    "    v_curr = vt.T\n",
    "    n,d = X.shape\n",
    "    \n",
    "    # then, come to the step 2\n",
    "    for i in range(max_iter):\n",
    "        \n",
    "        # update v\n",
    "        v_new, u_new, lambda_v, lambda_u = uv_renew(u_curr, s, v_curr, X, gamma1, gamma2)\n",
    "        if la.norm((v_new - v_curr)) < tol and la.norm((u_new - u_curr)) < tol :\n",
    "            return i+1, u_new, v_new, u_new.T @ X @ v_new, lambda_u, lambda_v\n",
    "        else:\n",
    "            u_curr = u_new\n",
    "            v_curr = v_new\n",
    "        \n",
    "    print(\"Results haven't converged. Please increase the number of iterations.\")\n",
    "    return max_iter, u_curr, v_curr, u_curr.T @ X @ v_curr, lambda_u, lambda_v"
   ]
  },
  {
   "cell_type": "code",
   "execution_count": 62,
   "id": "legal-boutique",
   "metadata": {
    "ExecuteTime": {
     "end_time": "2021-04-28T02:44:59.101453Z",
     "start_time": "2021-04-28T02:44:59.092690Z"
    }
   },
   "outputs": [],
   "source": [
    "def ClusterPlot(u, v, s, cluster, drop):\n",
    "    \"\"\"Plotting the heatmap for clusters of rank 1 approximation\n",
    "    \n",
    "    u, v, s = returned objects from SSVD function\n",
    "    cluster = the vector of cluster that are known, None if no cluster is known\n",
    "    drop = the indexes to be dropped\n",
    "    \n",
    "    return:\n",
    "    heatmap for clusters of rank 1 approximation\n",
    "    \"\"\"\n",
    "    import seaborn as sns\n",
    "    \n",
    "    row_index = np.empty(0, dtype = 'int')\n",
    "    \n",
    "    layer1 = s * u.reshape((-1, 1)) @ v.reshape((1, -1))\n",
    "    #layer1 = s * u @ v.T\n",
    "    cluster_set = np.unique(clusters)\n",
    "    \n",
    "    for i in range(len(cluster_set)):\n",
    "        index = np.where(cluster == cluster_set[i])[0]\n",
    "        index_ordered = index[np.argsort(u[index])] # make it ordered\n",
    "        row_index = np.concatenate((row_index, index_ordered))\n",
    "        \n",
    "    col_selected = np.argsort(np.abs(v))[drop:]\n",
    "    v_selected = v[col_selected]\n",
    "    col_index = np.argsort(v_selected)\n",
    "    start = layer1[:,col_selected]\n",
    "    ax = sns.heatmap(start[np.ix_(row_index, col_index)], vmin=-1, vmax=1, cmap = 'bwr')"
   ]
  },
  {
   "cell_type": "markdown",
   "id": "documented-candidate",
   "metadata": {},
   "source": [
    "### Numba version"
   ]
  },
  {
   "cell_type": "markdown",
   "id": "organizational-croatia",
   "metadata": {},
   "source": [
    "Below, we give the numba version of our functions.\n",
    "\n",
    "Notice that, since some operations are not suitable for numba, so we may change them into more appropriate ways.\n",
    "\n",
    "For example, @ is sometimes replaced by np.dot or np.outer.\n",
    "\n",
    "Sometimes, for the iteration that might be parallel, we change it into numba.prange"
   ]
  },
  {
   "cell_type": "code",
   "execution_count": 66,
   "id": "antique-imperial",
   "metadata": {
    "ExecuteTime": {
     "end_time": "2021-04-28T02:45:54.977489Z",
     "start_time": "2021-04-28T02:45:54.951040Z"
    }
   },
   "outputs": [],
   "source": [
    "@jit (nopython = True, parallel = True)\n",
    "\n",
    "def BICv_numba(X, u, v_tilde, sigma2_hat_v, n, d): \n",
    "    \"\"\"\n",
    "    This function return the n*d times of the original BIC.\n",
    "    Only used for internal use for the SSVD function.\n",
    "    It's used when updating v.\n",
    "    \"\"\"\n",
    "    df = np.sum(np.abs(v_tilde) > 1e-06)\n",
    "    bic_nd = np.sum((X - u @ v_tilde.T)**2) / (sigma2_hat_v) + np.log(n*d) * df\n",
    "    #bic_nd = np.sum((X - np.outer(u, v_tilde))**2) / (sigma2_hat_v) + np.log(n*d) * df\n",
    "    #bic_nd = np.trace((X - uvt) @ (X - uvt).T) / (sigma2_hat_v) + np.log(n*d) * df\n",
    "    return bic_nd\n",
    "\n",
    "def BICu_numba(X, v, u_tilde, sigma2_hat_u, n, d):\n",
    "    \"\"\"\n",
    "    This function return the n*d times of the original BIC.\n",
    "    Only used for internal use for the SSVD function.\n",
    "    It's used when updating u.\n",
    "    \"\"\"\n",
    "    df = np.sum(np.abs(u_tilde) > 1e-06)\n",
    "    bic_nd = np.sum((X - u_tilde @ v.T)**2) / (sigma2_hat_u) + np.log(n*d) * df\n",
    "    #bic_nd = np.sum((X - np.outer(u_tilde, v))**2) / (sigma2_hat_u) + np.log(n*d) * df\n",
    "    #bic_nd = np.trace((X - uvt) @ (X - uvt).T) / (sigma2_hat_u) + np.log(n*d) * df\n",
    "    return bic_nd\n",
    "\n",
    "def opt_lambda_v_numba(X, lamd_grid, Xu_nonzero, w2_nonzero, u, sigma2_hat_v, n, d, index_v):\n",
    "    \"\"\"\n",
    "    This function return best lambda that minimize the correponding BIC.\n",
    "    Only used for internal use for the SSVD function.\n",
    "    It's used when updating v.\n",
    "    \"\"\"\n",
    "    BICs = np.ones(lamd_grid.shape[0])\n",
    "\n",
    "    for i in numba.prange(BICs.shape[0]):\n",
    "        v_tilde_nonzero = np.sign(Xu_nonzero) * (np.abs(Xu_nonzero) >= lamd_grid[i]*w2_nonzero/2) * (np.abs(Xu_nonzero) - lamd_grid[i]*w2_nonzero/2)\n",
    "        v_tilde = np.zeros((d,1))\n",
    "        v_tilde[index_v] = v_tilde_nonzero\n",
    "        BICs[i] = BICv_numba(X, u, v_tilde, sigma2_hat_v, n, d)\n",
    "    lamd_min = np.argmin(BICs)\n",
    "    return lamd_grid[lamd_min]\n",
    "\n",
    "def opt_lambda_u_numba(X, lamd_grid, Xv_nonzero, w1_nonzero, v, sigma2_hat_u, n, d, index_u):\n",
    "    \"\"\"\n",
    "    This function return best lambda that minimize the correponding BIC.\n",
    "    Only used for internal use for the SSVD function.\n",
    "    It's used when updating u.\n",
    "    \"\"\"\n",
    "    BICs = np.ones(lamd_grid.shape[0])\n",
    "    \n",
    "    for i in numba.prange(BICs.shape[0]):\n",
    "        u_tilde_nonzero = np.sign(Xv_nonzero) * (np.abs(Xv_nonzero) >= lamd_grid[i]*w1_nonzero/2) * (np.abs(Xv_nonzero) - lamd_grid[i]*w1_nonzero/2)\n",
    "        u_tilde = np.zeros((n,1))\n",
    "        u_tilde[index_u] = u_tilde_nonzero\n",
    "        BICs[i] = BICu_numba(X, v, u_tilde, sigma2_hat_u, n, d)\n",
    "    \n",
    "    #BICs = list(map(lambda x: BIC(x, w, v, u_tilde, Z, sigma2_hat_u, n, d), lamd_grid))\n",
    "    lamd_min = np.argmin(BICs)\n",
    "    return lamd_grid[lamd_min]\n",
    "\n",
    "def uv_renew_numba(u, s, v, X, gamma1, gamma2):\n",
    "    \"\"\"\n",
    "    This function will return the updated u, v and the corresponding lambdas.\n",
    "    Only for internal use for the SSVD function.\n",
    "    \"\"\"\n",
    "    n,d = X.shape\n",
    "    u = u.reshape((n,1))\n",
    "    v = v.reshape((d,1))\n",
    "    SSTO = np.sum(X**2)\n",
    "        \n",
    "    ## first, update v\n",
    "    \n",
    "    # compute the weights, which are OLS for v (Xu is also the ols)\n",
    "    Xu = np.dot(X.T, u) # this is also the v_tilde in the paper, Xu is (d,1)\n",
    "    w2 = np.abs(Xu)**(-gamma2)\n",
    "    \n",
    "    # compute the estimated sigma2 hat for v\n",
    "    uvt = np.outer(u,v)\n",
    "    #uvt = u @ v.T\n",
    "    sigma2_hat_v = np.trace((X - s*uvt)@(X - s*uvt).T) / (n*d - d) \n",
    "    #sigma2_hat_v = np.abs(SSTO - sum(Xu**2)) / (n*d - d) \n",
    "    \n",
    "    # then, find the possible lambdas for v\n",
    "    # notice that, equivantly, we can write 2 * (X.T @ u) / w2 > lambda_v, and 2 * (X.T @ v) / w1 > lambda_u\n",
    "    # thus, it only makes sense to search different lambdas according to the values of (X.T @ u)/w2 or (X.T @ v)/w1\n",
    "    index_v = np.where(w2 < 1e8) # the index where Xu is non-zero. Out of these values, the v will almost be zero.\n",
    "    index_v = index_v[0]\n",
    "    Xu_nonzero = Xu[index_v]\n",
    "    w2_nonzero = w2[index_v]\n",
    "    lamd_grid_v = 2 * Xu_nonzero / w2_nonzero\n",
    "    #lamd_grid_v =  Xu[index_v] / w2[index_v]\n",
    "    lamd_grid_v = np.unique(np.append(0, np.abs(lamd_grid_v)))\n",
    "    lamd_grid_v.sort()\n",
    "    lamd_grid_v = lamd_grid_v[0:-1]\n",
    "    lamd_grid_v = np.r_[lamd_grid_v, np.linspace(0, lamd_grid_v[-1], num = 50)]\n",
    "    \n",
    "    \n",
    "    # find the optimized lambda for v\n",
    "    lamd_v = opt_lambda_v_numba(X, lamd_grid_v, Xu_nonzero, w2_nonzero, u, sigma2_hat_v, n, d, index_v)\n",
    "    \n",
    "    # update v\n",
    "    sig_v = np.sign(Xu)\n",
    "    #v_new = sig_v * (np.abs(Xu) - lamd_v*w2/2) * (np.abs(Xu) >= lamd_v*w2/2) / la.norm(Xu)\n",
    "    v_new = sig_v * (np.abs(Xu) - lamd_v*w2/2) * (np.abs(Xu) >= lamd_v*w2/2)\n",
    "    v_new = v_new / la.norm(v_new)\n",
    "    \n",
    "    ## then, update the u\n",
    "    \n",
    "    # compute the weights for u\n",
    "    Xvnew = np.dot(X, v_new) # this is also the u_tilde in the paper, Xvnew is (n,1)\n",
    "    w1 = np.abs(Xvnew)**(-gamma1)\n",
    "    \n",
    "    # compute the estimated sigma2 hat for u\n",
    "    uvt = np.outer(u,v_new)\n",
    "    #uvt = u @ v_new.T\n",
    "    sigma2_hat_u = np.trace((X - s*uvt)@(X - s*uvt).T) / (n*d - d)\n",
    "    #sigma2_hat_u = np.abs(SSTO - sum(Xvnew**2)) / (n*d - n) \n",
    "    \n",
    "    # then, find the possible lambdas for u\n",
    "    index_u = np.where(w1 < 1e8)\n",
    "    index_u = index_u[0]\n",
    "    Xv_nonzero = Xvnew[index_u]\n",
    "    w1_nonzero = w1[index_u]\n",
    "    lamd_grid_u = 2 * Xv_nonzero / w1_nonzero\n",
    "    lamd_grid_u = np.unique(np.append(0, np.abs(lamd_grid_u)))\n",
    "    lamd_grid_u.sort()\n",
    "    lamd_grid_u = lamd_grid_u[0:-1]\n",
    "    lamd_grid_u = np.r_[lamd_grid_u, np.linspace(0, lamd_grid_u[-1], num = 50)]\n",
    "    \n",
    "    # find the optimized lambda for u\n",
    "    lamd_u = opt_lambda_u_numba(X, lamd_grid_u, Xv_nonzero, w1_nonzero, v_new, sigma2_hat_u, n, d, index_u)\n",
    "    \n",
    "    # update u\n",
    "    sig_u = np.sign(Xvnew)\n",
    "    u_new = sig_u * (np.abs(Xvnew) - lamd_u*w1/2) * (np.abs(Xvnew) >= lamd_u*w1/2)\n",
    "    u_new = u_new / la.norm(u_new)\n",
    "    \n",
    "    return v_new, u_new, lamd_v, lamd_u\n",
    "\n",
    "def SSVD_numba(X, gamma1, gamma2, max_iter = 100, tol = 1e-05):\n",
    "    \"\"\"\n",
    "    This function returns the rank 1 approximation for a sparse matrix.\n",
    "    Recommended for use when you have large dataset, for example, with more than 10 thousands columns.\n",
    "    Not recommend for very small data set.\n",
    "    \n",
    "    X: the input matrix\n",
    "    gamma1: known power parameter for v\n",
    "    gamma2: known power parameter for u\n",
    "    max_iter: max iteration\n",
    "    tol: tolerence. If the steps between old u and v and the new ones are less than tol, then it stops.\n",
    "    \n",
    "    return: (number of iter, u, v, s, lambda_u, lambda_v)\n",
    "    \"\"\"\n",
    "    #first, get the stuffs in step 1\n",
    "    ut, s, vt = sparsesvd(csc_matrix(X), k = 1) # the returned vectors are all with 1 row\n",
    "    u_curr = ut.T \n",
    "    v_curr = vt.T\n",
    "    n,d = X.shape\n",
    "    \n",
    "    # then, come to the step 2\n",
    "    for i in range(max_iter):\n",
    "        \n",
    "        # update v\n",
    "        v_new, u_new, lambda_v, lambda_u = uv_renew_numba(u_curr, s, v_curr, X, gamma1, gamma2)\n",
    "        if la.norm((v_new - v_curr)) < tol and la.norm((u_new - u_curr)) < tol :\n",
    "            return i+1, u_new, v_new, u_new.T @ X @ v_new, lambda_u, lambda_v\n",
    "        else:\n",
    "            u_curr = u_new\n",
    "            v_curr = v_new\n",
    "        \n",
    "    print(\"Results haven't converged. Please increase the number of iterations.\")\n",
    "    return max_iter, u_curr, v_curr, u_curr.T @ X @ v_curr, lambda_u, lambda_v"
   ]
  },
  {
   "cell_type": "code",
   "execution_count": 67,
   "id": "optional-apparatus",
   "metadata": {
    "ExecuteTime": {
     "end_time": "2021-04-28T02:45:59.253759Z",
     "start_time": "2021-04-28T02:45:59.240139Z"
    }
   },
   "outputs": [],
   "source": [
    "# use our dataset to have a simple test\n",
    "brac = pd.read_csv('bracsample.txt', sep = \" \")\n",
    "brac = np.array(brac)"
   ]
  },
  {
   "cell_type": "code",
   "execution_count": 68,
   "id": "second-madison",
   "metadata": {
    "ExecuteTime": {
     "end_time": "2021-04-28T02:46:04.929612Z",
     "start_time": "2021-04-28T02:45:59.801271Z"
    }
   },
   "outputs": [
    {
     "name": "stdout",
     "output_type": "stream",
     "text": [
      "644 ms ± 30.8 ms per loop (mean ± std. dev. of 7 runs, 1 loop each)\n"
     ]
    }
   ],
   "source": [
    "%timeit niter, u, v, s, _, _= SSVD(brac, 2, 2, tol = 1e-06)"
   ]
  },
  {
   "cell_type": "code",
   "execution_count": 69,
   "id": "authorized-conviction",
   "metadata": {
    "ExecuteTime": {
     "end_time": "2021-04-28T02:46:22.388409Z",
     "start_time": "2021-04-28T02:46:07.118850Z"
    }
   },
   "outputs": [
    {
     "name": "stdout",
     "output_type": "stream",
     "text": [
      "1.72 s ± 103 ms per loop (mean ± std. dev. of 7 runs, 1 loop each)\n"
     ]
    }
   ],
   "source": [
    "%timeit niter, u, v, s, _, _ = SSVD_numba(brac, 2, 2, tol = 1e-06)"
   ]
  },
  {
   "cell_type": "markdown",
   "id": "international-invite",
   "metadata": {},
   "source": [
    "In fact, since we didn't do extensive iterations (loops) in our original functions, and our original SSVD is very efficient, thus, for this small dataset, using numba will not save time, but even waste a little time.\n",
    "\n",
    "Here, we recommend to use the numba version only when you have large dataset. For the dataset with hundreds of rows and columns, our original SSVD is efficient enough."
   ]
  },
  {
   "cell_type": "markdown",
   "id": "romantic-berlin",
   "metadata": {},
   "source": [
    "According to our test, when applying to numba to the lungcancer dataset in the paper (roughly, a 50 by 10000 matrix), it will save around 40% of the time.\n",
    "\n",
    "Thus, we **do suggest using numba version for huge dataset**, but it's not recommended for regular-sized dataset."
   ]
  },
  {
   "cell_type": "code",
   "execution_count": null,
   "id": "inner-might",
   "metadata": {
    "ExecuteTime": {
     "end_time": "2021-04-28T03:14:05.448752Z",
     "start_time": "2021-04-28T02:49:07.964234Z"
    }
   },
   "outputs": [],
   "source": [
    "#%timeit niter, u, v, s, _, _= SSVD_numba(lungcancer, 2, 2)\n",
    "#roughly 35% less of the time"
   ]
  },
  {
   "cell_type": "code",
   "execution_count": null,
   "id": "narrative-infection",
   "metadata": {},
   "outputs": [],
   "source": [
    "#%timeit niter, u, v, s, _, _= SSVD(lungcancer, 2, 2)"
   ]
  },
  {
   "cell_type": "markdown",
   "id": "otherwise-anaheim",
   "metadata": {},
   "source": [
    "## Applications to Simulated Data Set\n",
    "\n",
    "In this section, we apply SSVD to a simulated data set. We first create the data according to the description in the paper, specify the clusters, and then add some standard normal noise to the data. We apply our SSVD algorithm to do biclustering. \n",
    "\n",
    "We can see that the SSVD algorithm performs well. Compared to the original data, the algorithm almost removes all the noise."
   ]
  },
  {
   "cell_type": "code",
   "execution_count": 108,
   "id": "executive-geneva",
   "metadata": {
    "ExecuteTime": {
     "end_time": "2021-04-27T21:31:12.180534Z",
     "start_time": "2021-04-27T21:31:11.380654Z"
    }
   },
   "outputs": [
    {
     "data": {
      "image/png": "[encoded data removed]",
      "text/plain": [
       "<Figure size 432x288 with 2 Axes>"
      ]
     },
     "metadata": {
      "needs_background": "light"
     },
     "output_type": "display_data"
    }
   ],
   "source": [
    "# create the data according to the page 1093\n",
    "u_tilde = np.r_[np.array([10,9,8,7,6,5,4,3]), 2*np.ones(17), np.zeros(75)]\n",
    "u = u_tilde/la.norm(u_tilde)\n",
    "v_tilde = np.r_[np.array([10,-10,8,-8,5,-5]), 3*np.ones(5), -3*np.ones(5), np.zeros(34)]\n",
    "v = v_tilde/la.norm(v_tilde)\n",
    "s = 50\n",
    "\n",
    "# then, we can specify the cluster (to see how this true data looks like)\n",
    "clusters = np.concatenate((np.ones(8), 2*np.ones(17), 3*np.ones(75)))\n",
    "ClusterPlot(u, v, s, clusters, 0)"
   ]
  },
  {
   "cell_type": "code",
   "execution_count": 109,
   "id": "attempted-avatar",
   "metadata": {
    "ExecuteTime": {
     "end_time": "2021-04-27T21:31:31.188585Z",
     "start_time": "2021-04-27T21:31:31.184479Z"
    }
   },
   "outputs": [],
   "source": [
    "# then, according to the paper, we add some noise to the matrix\n",
    "\n",
    "#the 'true' background X\n",
    "X_star = s * u.reshape((-1,1)) @ v.reshape((-1,1)).T\n",
    "\n",
    "# get the error matrix, and plus it to the true X\n",
    "np.random.seed(663)\n",
    "X = X_star + np.random.normal(0, 1, size = X_star.shape)"
   ]
  },
  {
   "cell_type": "code",
   "execution_count": 112,
   "id": "killing-pointer",
   "metadata": {
    "ExecuteTime": {
     "end_time": "2021-04-27T21:32:14.972562Z",
     "start_time": "2021-04-27T21:32:14.139350Z"
    }
   },
   "outputs": [
    {
     "data": {
      "image/png": "[encoded data removed]",
      "text/plain": [
       "<Figure size 432x288 with 2 Axes>"
      ]
     },
     "metadata": {
      "needs_background": "light"
     },
     "output_type": "display_data"
    }
   ],
   "source": [
    "U, S, V = np.linalg.svd(X)\n",
    "u = U.T[0]\n",
    "s = S[0]\n",
    "v = V.T[0]\n",
    "ClusterPlot(u.reshape(-1), v.reshape(-1), s, clusters, 0)"
   ]
  },
  {
   "cell_type": "code",
   "execution_count": 113,
   "id": "located-charm",
   "metadata": {
    "ExecuteTime": {
     "end_time": "2021-04-27T21:33:10.461153Z",
     "start_time": "2021-04-27T21:33:09.423340Z"
    }
   },
   "outputs": [
    {
     "data": {
      "image/png": "[encoded data removed]",
      "text/plain": [
       "<Figure size 432x288 with 2 Axes>"
      ]
     },
     "metadata": {
      "needs_background": "light"
     },
     "output_type": "display_data"
    }
   ],
   "source": [
    "# apply it to our function\n",
    "niter, u, v, s, _, _= SSVD(X, 2, 2)\n",
    "\n",
    "# it performs pretty well. Almost all the noise is removed from our dataset\n",
    "ClusterPlot(u.reshape(-1), v.reshape(-1), s, clusters, 0)"
   ]
  },
  {
   "cell_type": "markdown",
   "id": "moderate-express",
   "metadata": {},
   "source": [
    "## Applications to real data sets"
   ]
  },
  {
   "cell_type": "markdown",
   "id": "seventh-belly",
   "metadata": {},
   "source": [
    "In this section, we apply the algorithm on the lung cancer data set from the original paper, and a breast cancer data set to test the performance."
   ]
  },
  {
   "cell_type": "markdown",
   "id": "social-horror",
   "metadata": {},
   "source": [
    "### Lung Cancer Data\n",
    "\n",
    "In the original paper, SSVD is used to identify four different cancer types and their associated subjects simultaneously. From the first plot below, we can see that the original data set is covered with lots of noise. The second plot shows the intended clusterings associated with subject numbers. After SSVD is applied, we can see that almost all the noise are removed, and the checkerboard patterns are recognized. The subjects are correctly grouped with the cancer subtypes."
   ]
  },
  {
   "cell_type": "code",
   "execution_count": 51,
   "id": "coupled-amateur",
   "metadata": {
    "ExecuteTime": {
     "end_time": "2021-04-28T02:30:58.604117Z",
     "start_time": "2021-04-28T02:30:58.379834Z"
    }
   },
   "outputs": [
    {
     "data": {
      "text/plain": [
       "(56, 12625)"
      ]
     },
     "execution_count": 51,
     "metadata": {},
     "output_type": "execute_result"
    }
   ],
   "source": [
    "lungcancer = pd.read_csv('LungCancerData.txt', sep=' ', header = None)\n",
    "lungcancer = (np.array(lungcancer)).T\n",
    "lungcancer.shape"
   ]
  },
  {
   "cell_type": "code",
   "execution_count": 120,
   "id": "interested-exhibit",
   "metadata": {
    "ExecuteTime": {
     "end_time": "2021-04-27T21:43:32.633675Z",
     "start_time": "2021-04-27T21:43:30.837690Z"
    }
   },
   "outputs": [
    {
     "data": {
      "image/png": "[encoded data removed]",
      "text/plain": [
       "<Figure size 432x288 with 2 Axes>"
      ]
     },
     "metadata": {
      "needs_background": "light"
     },
     "output_type": "display_data"
    }
   ],
   "source": [
    "lungcancer = pd.read_csv('LungCancerData.txt', sep=' ', header = None)\n",
    "lungcancer = (np.array(lungcancer)).T\n",
    "sns.heatmap(lungcancer, vmin=-1, vmax=1, cmap = 'bwr')\n",
    "pass"
   ]
  },
  {
   "cell_type": "code",
   "execution_count": 124,
   "id": "individual-scholarship",
   "metadata": {
    "ExecuteTime": {
     "end_time": "2021-04-27T21:47:38.812725Z",
     "start_time": "2021-04-27T21:47:25.894287Z"
    }
   },
   "outputs": [
    {
     "data": {
      "image/png": "[encoded data removed]",
      "text/plain": [
       "<Figure size 432x288 with 2 Axes>"
      ]
     },
     "metadata": {
      "needs_background": "light"
     },
     "output_type": "display_data"
    }
   ],
   "source": [
    "clusters = np.concatenate((np.ones(20), 2*np.ones(33-20), 3*np.ones(50-33), 4*np.ones(56-50)))\n",
    "U, S, V = np.linalg.svd(lungcancer)\n",
    "u = U.T[0]\n",
    "s = S[0]\n",
    "v = V.T[0]\n",
    "ClusterPlot(u.reshape(-1), v.reshape(-1), s, clusters, 0)"
   ]
  },
  {
   "cell_type": "code",
   "execution_count": 125,
   "id": "cheap-premiere",
   "metadata": {
    "ExecuteTime": {
     "end_time": "2021-04-27T22:01:10.414132Z",
     "start_time": "2021-04-27T21:48:13.596689Z"
    }
   },
   "outputs": [
    {
     "data": {
      "image/png": "[encoded data removed]",
      "text/plain": [
       "<Figure size 432x288 with 2 Axes>"
      ]
     },
     "metadata": {
      "needs_background": "light"
     },
     "output_type": "display_data"
    }
   ],
   "source": [
    "niter, u, v, s, _, _= SSVD(lungcancer, 2, 2)\n",
    "\n",
    "# it performs pretty well. Almost all the noise is removed from our dataset\n",
    "ClusterPlot(u.reshape(-1), v.reshape(-1), s, clusters, 0)"
   ]
  },
  {
   "cell_type": "markdown",
   "id": "posted-prayer",
   "metadata": {},
   "source": [
    "### Breast Cancer\n",
    "\n",
    "We obtained the data from Classifying Breast Cancer Subtypes Using Deep Neural Networkds Based on Multi-Omics Data by Yuqi Lin, Wen Zhang, Huanshen Cao, Gaoyang Li and Wei Du. There are three subtypes of breast cancer and a fourth subgroup indicating healthy status. \n",
    "\n",
    "Subjects 1-30 belongs to subtype 1, 31-50 belongs to subtype 2, 51-65 belongs to subtype 3, and the rest belongs to subtype 4. The original data set looks really messy. But after applying SSVD, we can clearly recognize the checkerboard pattern, which shows four main separated areas with relative subject numbers. Thus, the algorithm successfully identifies the four status with associated to their subjects."
   ]
  },
  {
   "cell_type": "code",
   "execution_count": 295,
   "id": "pleasant-junior",
   "metadata": {
    "ExecuteTime": {
     "end_time": "2021-04-27T23:54:38.386583Z",
     "start_time": "2021-04-27T23:54:38.351811Z"
    }
   },
   "outputs": [
    {
     "data": {
      "text/html": [
       "<div>\n",
       "<style scoped>\n",
       "    .dataframe tbody tr th:only-of-type {\n",
       "        vertical-align: middle;\n",
       "    }\n",
       "\n",
       "    .dataframe tbody tr th {\n",
       "        vertical-align: top;\n",
       "    }\n",
       "\n",
       "    .dataframe thead th {\n",
       "        text-align: right;\n",
       "    }\n",
       "</style>\n",
       "<table border=\"1\" class=\"dataframe\">\n",
       "  <thead>\n",
       "    <tr style=\"text-align: right;\">\n",
       "      <th></th>\n",
       "      <th>A1BG</th>\n",
       "      <th>A1CF</th>\n",
       "      <th>A2M</th>\n",
       "      <th>A2ML1</th>\n",
       "      <th>A4GALT</th>\n",
       "      <th>A4GNT</th>\n",
       "      <th>AAAS</th>\n",
       "      <th>AACS</th>\n",
       "      <th>AADAC</th>\n",
       "      <th>AADACL2</th>\n",
       "      <th>...</th>\n",
       "      <th>ABO</th>\n",
       "      <th>ABR</th>\n",
       "      <th>ABRA</th>\n",
       "      <th>ABT1</th>\n",
       "      <th>ABTB1</th>\n",
       "      <th>ABTB2</th>\n",
       "      <th>ACAA1</th>\n",
       "      <th>ACAA2</th>\n",
       "      <th>ACACA</th>\n",
       "      <th>ACACB</th>\n",
       "    </tr>\n",
       "  </thead>\n",
       "  <tbody>\n",
       "    <tr>\n",
       "      <th>lminalA</th>\n",
       "      <td>0.0199</td>\n",
       "      <td>0.0148</td>\n",
       "      <td>0.0146</td>\n",
       "      <td>0.0146</td>\n",
       "      <td>0.0272</td>\n",
       "      <td>0.0158</td>\n",
       "      <td>0.0146</td>\n",
       "      <td>0.0162</td>\n",
       "      <td>0.0158</td>\n",
       "      <td>0.0158</td>\n",
       "      <td>...</td>\n",
       "      <td>0.0156</td>\n",
       "      <td>0.0150</td>\n",
       "      <td>0.0173</td>\n",
       "      <td>0.0155</td>\n",
       "      <td>0.0158</td>\n",
       "      <td>0.0163</td>\n",
       "      <td>0.0158</td>\n",
       "      <td>0.0151</td>\n",
       "      <td>0.0150</td>\n",
       "      <td>0.0162</td>\n",
       "    </tr>\n",
       "    <tr>\n",
       "      <th>lminalA.1</th>\n",
       "      <td>0.0219</td>\n",
       "      <td>-0.0196</td>\n",
       "      <td>0.0346</td>\n",
       "      <td>0.0346</td>\n",
       "      <td>-0.0109</td>\n",
       "      <td>0.0388</td>\n",
       "      <td>0.0346</td>\n",
       "      <td>-0.3763</td>\n",
       "      <td>0.0388</td>\n",
       "      <td>0.0388</td>\n",
       "      <td>...</td>\n",
       "      <td>0.0313</td>\n",
       "      <td>-0.3950</td>\n",
       "      <td>0.2346</td>\n",
       "      <td>0.0323</td>\n",
       "      <td>0.0388</td>\n",
       "      <td>0.0333</td>\n",
       "      <td>0.0388</td>\n",
       "      <td>0.0290</td>\n",
       "      <td>0.0248</td>\n",
       "      <td>-0.3763</td>\n",
       "    </tr>\n",
       "    <tr>\n",
       "      <th>lminalA.2</th>\n",
       "      <td>0.1721</td>\n",
       "      <td>0.2012</td>\n",
       "      <td>0.2308</td>\n",
       "      <td>0.2308</td>\n",
       "      <td>-0.0430</td>\n",
       "      <td>-0.0304</td>\n",
       "      <td>0.2296</td>\n",
       "      <td>-0.3297</td>\n",
       "      <td>-0.0304</td>\n",
       "      <td>-0.0304</td>\n",
       "      <td>...</td>\n",
       "      <td>-0.0360</td>\n",
       "      <td>-0.3376</td>\n",
       "      <td>0.2022</td>\n",
       "      <td>-0.0477</td>\n",
       "      <td>-0.0304</td>\n",
       "      <td>-0.0352</td>\n",
       "      <td>-0.3253</td>\n",
       "      <td>-0.0301</td>\n",
       "      <td>-0.0466</td>\n",
       "      <td>-0.3297</td>\n",
       "    </tr>\n",
       "    <tr>\n",
       "      <th>lminalA.3</th>\n",
       "      <td>0.0033</td>\n",
       "      <td>0.0022</td>\n",
       "      <td>0.0108</td>\n",
       "      <td>0.0108</td>\n",
       "      <td>-0.1758</td>\n",
       "      <td>-0.0032</td>\n",
       "      <td>0.0108</td>\n",
       "      <td>0.0108</td>\n",
       "      <td>-0.0032</td>\n",
       "      <td>-0.0032</td>\n",
       "      <td>...</td>\n",
       "      <td>0.0020</td>\n",
       "      <td>0.0191</td>\n",
       "      <td>0.6962</td>\n",
       "      <td>-0.0019</td>\n",
       "      <td>-0.0032</td>\n",
       "      <td>-0.0048</td>\n",
       "      <td>-0.0032</td>\n",
       "      <td>-0.0033</td>\n",
       "      <td>0.0191</td>\n",
       "      <td>0.0108</td>\n",
       "    </tr>\n",
       "    <tr>\n",
       "      <th>lminalA.4</th>\n",
       "      <td>0.0243</td>\n",
       "      <td>-0.0073</td>\n",
       "      <td>-0.0050</td>\n",
       "      <td>-0.0050</td>\n",
       "      <td>0.0442</td>\n",
       "      <td>0.3254</td>\n",
       "      <td>0.0124</td>\n",
       "      <td>0.0282</td>\n",
       "      <td>0.2957</td>\n",
       "      <td>0.2957</td>\n",
       "      <td>...</td>\n",
       "      <td>0.0325</td>\n",
       "      <td>-0.3592</td>\n",
       "      <td>0.3042</td>\n",
       "      <td>0.0159</td>\n",
       "      <td>0.3254</td>\n",
       "      <td>0.0033</td>\n",
       "      <td>0.0340</td>\n",
       "      <td>0.0255</td>\n",
       "      <td>0.3066</td>\n",
       "      <td>0.0245</td>\n",
       "    </tr>\n",
       "    <tr>\n",
       "      <th>...</th>\n",
       "      <td>...</td>\n",
       "      <td>...</td>\n",
       "      <td>...</td>\n",
       "      <td>...</td>\n",
       "      <td>...</td>\n",
       "      <td>...</td>\n",
       "      <td>...</td>\n",
       "      <td>...</td>\n",
       "      <td>...</td>\n",
       "      <td>...</td>\n",
       "      <td>...</td>\n",
       "      <td>...</td>\n",
       "      <td>...</td>\n",
       "      <td>...</td>\n",
       "      <td>...</td>\n",
       "      <td>...</td>\n",
       "      <td>...</td>\n",
       "      <td>...</td>\n",
       "      <td>...</td>\n",
       "      <td>...</td>\n",
       "      <td>...</td>\n",
       "    </tr>\n",
       "    <tr>\n",
       "      <th>normal.107</th>\n",
       "      <td>0.2809</td>\n",
       "      <td>-0.1594</td>\n",
       "      <td>0.0219</td>\n",
       "      <td>0.0219</td>\n",
       "      <td>-0.1804</td>\n",
       "      <td>-0.1491</td>\n",
       "      <td>-0.1624</td>\n",
       "      <td>-0.1612</td>\n",
       "      <td>-0.1491</td>\n",
       "      <td>-0.1491</td>\n",
       "      <td>...</td>\n",
       "      <td>-0.0312</td>\n",
       "      <td>-0.1583</td>\n",
       "      <td>0.0348</td>\n",
       "      <td>0.4682</td>\n",
       "      <td>-0.1491</td>\n",
       "      <td>0.1423</td>\n",
       "      <td>-0.1491</td>\n",
       "      <td>0.1903</td>\n",
       "      <td>-0.1583</td>\n",
       "      <td>-0.1612</td>\n",
       "    </tr>\n",
       "    <tr>\n",
       "      <th>normal.108</th>\n",
       "      <td>0.0023</td>\n",
       "      <td>-0.0002</td>\n",
       "      <td>-0.0023</td>\n",
       "      <td>-0.0023</td>\n",
       "      <td>-0.0004</td>\n",
       "      <td>-0.0012</td>\n",
       "      <td>-0.0023</td>\n",
       "      <td>-0.0023</td>\n",
       "      <td>-0.0012</td>\n",
       "      <td>-0.0012</td>\n",
       "      <td>...</td>\n",
       "      <td>0.0008</td>\n",
       "      <td>-0.0006</td>\n",
       "      <td>0.0005</td>\n",
       "      <td>0.0001</td>\n",
       "      <td>-0.0012</td>\n",
       "      <td>-0.0001</td>\n",
       "      <td>-0.0012</td>\n",
       "      <td>0.0087</td>\n",
       "      <td>-0.0006</td>\n",
       "      <td>-0.0023</td>\n",
       "    </tr>\n",
       "    <tr>\n",
       "      <th>normal.109</th>\n",
       "      <td>0.0091</td>\n",
       "      <td>0.0001</td>\n",
       "      <td>-0.0124</td>\n",
       "      <td>-0.0124</td>\n",
       "      <td>-0.0632</td>\n",
       "      <td>0.0000</td>\n",
       "      <td>-0.0215</td>\n",
       "      <td>-0.0432</td>\n",
       "      <td>0.0267</td>\n",
       "      <td>0.0267</td>\n",
       "      <td>...</td>\n",
       "      <td>-0.0393</td>\n",
       "      <td>-0.0409</td>\n",
       "      <td>0.0864</td>\n",
       "      <td>-0.0238</td>\n",
       "      <td>0.0000</td>\n",
       "      <td>-0.0050</td>\n",
       "      <td>0.0198</td>\n",
       "      <td>0.0004</td>\n",
       "      <td>-0.0335</td>\n",
       "      <td>-0.0107</td>\n",
       "    </tr>\n",
       "    <tr>\n",
       "      <th>normal.110</th>\n",
       "      <td>0.0136</td>\n",
       "      <td>-0.0001</td>\n",
       "      <td>-0.0021</td>\n",
       "      <td>-0.0021</td>\n",
       "      <td>0.0125</td>\n",
       "      <td>-0.0038</td>\n",
       "      <td>-0.0021</td>\n",
       "      <td>-0.0020</td>\n",
       "      <td>-0.0038</td>\n",
       "      <td>-0.0038</td>\n",
       "      <td>...</td>\n",
       "      <td>0.0002</td>\n",
       "      <td>0.0083</td>\n",
       "      <td>-0.0054</td>\n",
       "      <td>-0.0050</td>\n",
       "      <td>-0.0038</td>\n",
       "      <td>-0.0018</td>\n",
       "      <td>-0.0038</td>\n",
       "      <td>-0.0018</td>\n",
       "      <td>0.0083</td>\n",
       "      <td>-0.0020</td>\n",
       "    </tr>\n",
       "    <tr>\n",
       "      <th>normal.111</th>\n",
       "      <td>0.1735</td>\n",
       "      <td>0.1202</td>\n",
       "      <td>0.1270</td>\n",
       "      <td>0.1270</td>\n",
       "      <td>-0.4397</td>\n",
       "      <td>0.5922</td>\n",
       "      <td>0.1546</td>\n",
       "      <td>0.1827</td>\n",
       "      <td>0.5417</td>\n",
       "      <td>0.5417</td>\n",
       "      <td>...</td>\n",
       "      <td>-0.4530</td>\n",
       "      <td>-0.4634</td>\n",
       "      <td>0.5426</td>\n",
       "      <td>0.0827</td>\n",
       "      <td>0.1770</td>\n",
       "      <td>-0.4864</td>\n",
       "      <td>-0.4957</td>\n",
       "      <td>0.1848</td>\n",
       "      <td>0.5979</td>\n",
       "      <td>0.1553</td>\n",
       "    </tr>\n",
       "  </tbody>\n",
       "</table>\n",
       "<p>75 rows × 100 columns</p>\n",
       "</div>"
      ],
      "text/plain": [
       "              A1BG    A1CF     A2M   A2ML1  A4GALT   A4GNT    AAAS    AACS  \\\n",
       "lminalA     0.0199  0.0148  0.0146  0.0146  0.0272  0.0158  0.0146  0.0162   \n",
       "lminalA.1   0.0219 -0.0196  0.0346  0.0346 -0.0109  0.0388  0.0346 -0.3763   \n",
       "lminalA.2   0.1721  0.2012  0.2308  0.2308 -0.0430 -0.0304  0.2296 -0.3297   \n",
       "lminalA.3   0.0033  0.0022  0.0108  0.0108 -0.1758 -0.0032  0.0108  0.0108   \n",
       "lminalA.4   0.0243 -0.0073 -0.0050 -0.0050  0.0442  0.3254  0.0124  0.0282   \n",
       "...            ...     ...     ...     ...     ...     ...     ...     ...   \n",
       "normal.107  0.2809 -0.1594  0.0219  0.0219 -0.1804 -0.1491 -0.1624 -0.1612   \n",
       "normal.108  0.0023 -0.0002 -0.0023 -0.0023 -0.0004 -0.0012 -0.0023 -0.0023   \n",
       "normal.109  0.0091  0.0001 -0.0124 -0.0124 -0.0632  0.0000 -0.0215 -0.0432   \n",
       "normal.110  0.0136 -0.0001 -0.0021 -0.0021  0.0125 -0.0038 -0.0021 -0.0020   \n",
       "normal.111  0.1735  0.1202  0.1270  0.1270 -0.4397  0.5922  0.1546  0.1827   \n",
       "\n",
       "             AADAC  AADACL2  ...     ABO     ABR    ABRA    ABT1   ABTB1  \\\n",
       "lminalA     0.0158   0.0158  ...  0.0156  0.0150  0.0173  0.0155  0.0158   \n",
       "lminalA.1   0.0388   0.0388  ...  0.0313 -0.3950  0.2346  0.0323  0.0388   \n",
       "lminalA.2  -0.0304  -0.0304  ... -0.0360 -0.3376  0.2022 -0.0477 -0.0304   \n",
       "lminalA.3  -0.0032  -0.0032  ...  0.0020  0.0191  0.6962 -0.0019 -0.0032   \n",
       "lminalA.4   0.2957   0.2957  ...  0.0325 -0.3592  0.3042  0.0159  0.3254   \n",
       "...            ...      ...  ...     ...     ...     ...     ...     ...   \n",
       "normal.107 -0.1491  -0.1491  ... -0.0312 -0.1583  0.0348  0.4682 -0.1491   \n",
       "normal.108 -0.0012  -0.0012  ...  0.0008 -0.0006  0.0005  0.0001 -0.0012   \n",
       "normal.109  0.0267   0.0267  ... -0.0393 -0.0409  0.0864 -0.0238  0.0000   \n",
       "normal.110 -0.0038  -0.0038  ...  0.0002  0.0083 -0.0054 -0.0050 -0.0038   \n",
       "normal.111  0.5417   0.5417  ... -0.4530 -0.4634  0.5426  0.0827  0.1770   \n",
       "\n",
       "             ABTB2   ACAA1   ACAA2   ACACA   ACACB  \n",
       "lminalA     0.0163  0.0158  0.0151  0.0150  0.0162  \n",
       "lminalA.1   0.0333  0.0388  0.0290  0.0248 -0.3763  \n",
       "lminalA.2  -0.0352 -0.3253 -0.0301 -0.0466 -0.3297  \n",
       "lminalA.3  -0.0048 -0.0032 -0.0033  0.0191  0.0108  \n",
       "lminalA.4   0.0033  0.0340  0.0255  0.3066  0.0245  \n",
       "...            ...     ...     ...     ...     ...  \n",
       "normal.107  0.1423 -0.1491  0.1903 -0.1583 -0.1612  \n",
       "normal.108 -0.0001 -0.0012  0.0087 -0.0006 -0.0023  \n",
       "normal.109 -0.0050  0.0198  0.0004 -0.0335 -0.0107  \n",
       "normal.110 -0.0018 -0.0038 -0.0018  0.0083 -0.0020  \n",
       "normal.111 -0.4864 -0.4957  0.1848  0.5979  0.1553  \n",
       "\n",
       "[75 rows x 100 columns]"
      ]
     },
     "execution_count": 295,
     "metadata": {},
     "output_type": "execute_result"
    }
   ],
   "source": [
    "brac = pd.read_csv('bracsample.txt', sep = \" \")\n",
    "brac"
   ]
  },
  {
   "cell_type": "code",
   "execution_count": 296,
   "id": "scenic-governor",
   "metadata": {
    "ExecuteTime": {
     "end_time": "2021-04-27T23:54:41.910667Z",
     "start_time": "2021-04-27T23:54:41.043683Z"
    }
   },
   "outputs": [
    {
     "data": {
      "image/png": "[encoded data removed]",
      "text/plain": [
       "<Figure size 432x288 with 2 Axes>"
      ]
     },
     "metadata": {
      "needs_background": "light"
     },
     "output_type": "display_data"
    }
   ],
   "source": [
    "# look at the original data, it's pretty messy.\n",
    "brac = np.array(brac)\n",
    "sns.heatmap(brac, vmin=-1, vmax=1, cmap = 'bwr')\n",
    "pass"
   ]
  },
  {
   "cell_type": "code",
   "execution_count": 300,
   "id": "failing-incident",
   "metadata": {
    "ExecuteTime": {
     "end_time": "2021-04-27T23:59:59.090796Z",
     "start_time": "2021-04-27T23:59:57.784268Z"
    }
   },
   "outputs": [
    {
     "data": {
      "image/png": "[encoded data removed]",
      "text/plain": [
       "<Figure size 432x288 with 2 Axes>"
      ]
     },
     "metadata": {
      "needs_background": "light"
     },
     "output_type": "display_data"
    }
   ],
   "source": [
    "niter, u, v, s, _, _= SSVD(brac, 2, 2, tol = 1e-06)\n",
    "\n",
    "# defining the clusters\n",
    "clusters = np.concatenate((np.ones(30), 2*np.ones(20), 3*np.ones(15), 4*np.ones(10)))\n",
    "# it performs pretty well. Almost all the noise is removed from our dataset\n",
    "ClusterPlot(u.reshape(-1), v.reshape(-1), s, clusters, 0)\n",
    "\n",
    "#aftering the SSVD, the heatmap becomes much more tidy. And we can almost successfully classify them.\n",
    "#except for the very small stratums, we almost classify all of them."
   ]
  },
  {
   "cell_type": "markdown",
   "id": "developmental-samoa",
   "metadata": {},
   "source": [
    "## Comparative Analysis\n",
    "\n",
    "In this section, we compare SSVD to two other algorithms for biclustering. We first apply standard singular value decomposition, and then apply sparse PCA, on the simulated data set used in Applications to Simulated Data Set section. We summarize and compare the performances of SSVD, SVD and sparse PCA in a table. From the table, we can see that SSVD and SPCA both perform well in predicting the zero loadings of $\\boldsymbol u$, $\\boldsymbol v$, and $\\mathbf X$, but SVD performs poorly."
   ]
  },
  {
   "cell_type": "markdown",
   "id": "systematic-vaccine",
   "metadata": {},
   "source": [
    "### Simulated data"
   ]
  },
  {
   "cell_type": "code",
   "execution_count": null,
   "id": "southern-cyprus",
   "metadata": {},
   "outputs": [],
   "source": [
    "u_tilde = np.r_[np.array([10,9,8,7,6,5,4,3]), 2*np.ones(17), np.zeros(75)]\n",
    "u = u_tilde/la.norm(u_tilde)\n",
    "v_tilde = np.r_[np.array([10,-10,8,-8,5,-5]), 3*np.ones(5), -3*np.ones(5), np.zeros(34)]\n",
    "v = v_tilde/la.norm(v_tilde)\n",
    "clusters = np.concatenate((np.ones(8), 2*np.ones(17), 3*np.ones(75)))\n",
    "\n",
    "#the 'true' background X\n",
    "X_star = s * u.reshape((-1,1)) @ v.reshape((-1,1)).T\n",
    "\n",
    "# get the error matrix, and plus it to the true X\n",
    "np.random.seed(663)\n",
    "X = X_star + np.random.normal(0, 1, size = X_star.shape)"
   ]
  },
  {
   "cell_type": "code",
   "execution_count": 257,
   "id": "dramatic-allergy",
   "metadata": {
    "ExecuteTime": {
     "end_time": "2021-04-27T23:00:26.564841Z",
     "start_time": "2021-04-27T23:00:26.561817Z"
    }
   },
   "outputs": [],
   "source": [
    "table = np.ones((4,3))"
   ]
  },
  {
   "cell_type": "markdown",
   "id": "periodic-ghana",
   "metadata": {},
   "source": [
    "### SVD"
   ]
  },
  {
   "cell_type": "code",
   "execution_count": 154,
   "id": "egyptian-table",
   "metadata": {
    "ExecuteTime": {
     "end_time": "2021-04-27T22:32:12.235261Z",
     "start_time": "2021-04-27T22:32:12.224121Z"
    }
   },
   "outputs": [],
   "source": [
    "# 1. using the svd\n",
    "U, S, V = np.linalg.svd(X)\n",
    "u_svd = U.T[0]\n",
    "s_svd = S[0]\n",
    "v_svd = V.T[0]\n",
    "u_svd_acc = np.sum(u_svd == u)/u_svd.shape[0]\n",
    "v_svd_acc = np.sum(v_svd == v)/v_svd.shape[0]\n",
    "X_svd = s_svd * u_svd.reshape((-1,1)) @ v_svd.reshape((-1,1)).T\n",
    "svd_acc = np.sum(np.round(X_svd,2) == X_star) / (u_svd.shape[0] * v_svd.shape[0])"
   ]
  },
  {
   "cell_type": "code",
   "execution_count": 258,
   "id": "continued-vault",
   "metadata": {
    "ExecuteTime": {
     "end_time": "2021-04-27T23:00:28.261679Z",
     "start_time": "2021-04-27T23:00:28.258704Z"
    }
   },
   "outputs": [],
   "source": [
    "table[0,0] = u_svd_acc\n",
    "table[0,1] = v_svd_acc\n",
    "table[0,2] = svd_acc"
   ]
  },
  {
   "cell_type": "markdown",
   "id": "spiritual-theta",
   "metadata": {},
   "source": [
    "### SSVD"
   ]
  },
  {
   "cell_type": "code",
   "execution_count": null,
   "id": "laughing-holiday",
   "metadata": {},
   "outputs": [],
   "source": [
    "# 2. apply it to our function SSVD\n",
    "_, u_ssvd, v_ssvd, s_ssvd, _, _= SSVD(X, 2, 2, tol = 1e-06)"
   ]
  },
  {
   "cell_type": "code",
   "execution_count": 236,
   "id": "reasonable-murray",
   "metadata": {
    "ExecuteTime": {
     "end_time": "2021-04-27T22:52:41.905656Z",
     "start_time": "2021-04-27T22:52:41.899484Z"
    }
   },
   "outputs": [],
   "source": [
    "u_ssvd_acc = np.sum(u_ssvd.reshape(-1) == u)/u_ssvd.shape[0]\n",
    "v_ssvd_acc = np.sum(v_ssvd.reshape(-1) == v)/v_ssvd.shape[0]\n",
    "X_ssvd = s_ssvd * u_ssvd.reshape((-1,1)) @ v_ssvd.reshape((-1,1)).T\n",
    "ssvd_acc = np.sum(np.round(X_ssvd,2) == X_star) / (u_ssvd.shape[0] * v_ssvd.shape[0])"
   ]
  },
  {
   "cell_type": "code",
   "execution_count": 259,
   "id": "coordinated-morocco",
   "metadata": {
    "ExecuteTime": {
     "end_time": "2021-04-27T23:00:47.836059Z",
     "start_time": "2021-04-27T23:00:47.832454Z"
    }
   },
   "outputs": [],
   "source": [
    "table[1,0] = u_ssvd_acc\n",
    "table[1,1] = v_ssvd_acc\n",
    "table[1,2] = ssvd_acc"
   ]
  },
  {
   "cell_type": "markdown",
   "id": "significant-degree",
   "metadata": {},
   "source": [
    "### sparse PCA\n",
    "For sparse PCA, we choose $\\alpha = 1$ and $\\alpha = 5$."
   ]
  },
  {
   "cell_type": "code",
   "execution_count": 260,
   "id": "broadband-collapse",
   "metadata": {
    "ExecuteTime": {
     "end_time": "2021-04-27T23:00:58.693426Z",
     "start_time": "2021-04-27T23:00:58.601520Z"
    }
   },
   "outputs": [],
   "source": [
    "#3. using the spca\n",
    "from sklearn.decomposition import SparsePCA\n",
    "\n",
    "spca = SparsePCA(max_iter=100, tol=1e-06, n_components = 1, alpha = 5)\n",
    "spca.fit(X)\n",
    "v_spca = spca.components_[0]\n",
    "spca.fit(X.T)\n",
    "u_spca = spca.components_[0]"
   ]
  },
  {
   "cell_type": "code",
   "execution_count": 261,
   "id": "frequent-lesbian",
   "metadata": {
    "ExecuteTime": {
     "end_time": "2021-04-27T23:01:00.719236Z",
     "start_time": "2021-04-27T23:01:00.713920Z"
    }
   },
   "outputs": [],
   "source": [
    "u_spca_acc = np.sum(u_spca == u)/u_spca.shape[0]\n",
    "v_spca_acc = np.sum(v_spca == v)/v_spca.shape[0]\n",
    "X_spca = u_spca.reshape((-1,1)) @ v_spca.reshape((-1,1)).T\n",
    "spca_acc = np.sum(np.round(X_spca,2) == X_star) / (u_spca.shape[0] * v_spca.shape[0])"
   ]
  },
  {
   "cell_type": "code",
   "execution_count": 262,
   "id": "alternate-original",
   "metadata": {
    "ExecuteTime": {
     "end_time": "2021-04-27T23:01:24.709918Z",
     "start_time": "2021-04-27T23:01:24.706170Z"
    }
   },
   "outputs": [],
   "source": [
    "table[2,0] = u_spca_acc\n",
    "table[2,1] = v_spca_acc\n",
    "table[2,2] = spca_acc"
   ]
  },
  {
   "cell_type": "code",
   "execution_count": 263,
   "id": "induced-victorian",
   "metadata": {
    "ExecuteTime": {
     "end_time": "2021-04-27T23:01:29.271308Z",
     "start_time": "2021-04-27T23:01:29.157797Z"
    }
   },
   "outputs": [],
   "source": [
    "#using the spca\n",
    "spca = SparsePCA(max_iter=100, tol=1e-06, n_components = 1, alpha = 1)\n",
    "spca.fit(X)\n",
    "v_spca = spca.components_[0]\n",
    "spca.fit(X.T)\n",
    "u_spca = spca.components_[0]"
   ]
  },
  {
   "cell_type": "code",
   "execution_count": 264,
   "id": "distinct-advancement",
   "metadata": {
    "ExecuteTime": {
     "end_time": "2021-04-27T23:01:31.252232Z",
     "start_time": "2021-04-27T23:01:31.247405Z"
    }
   },
   "outputs": [],
   "source": [
    "u_spca_acc = np.sum(u_spca == u)/u_spca.shape[0]\n",
    "v_spca_acc = np.sum(v_spca == v)/v_spca.shape[0]\n",
    "X_spca = u_spca.reshape((-1,1)) @ v_spca.reshape((-1,1)).T\n",
    "spca_acc = np.sum(np.round(X_spca,2) == X_star) / (u_spca.shape[0] * v_spca.shape[0])"
   ]
  },
  {
   "cell_type": "code",
   "execution_count": 265,
   "id": "northern-welding",
   "metadata": {
    "ExecuteTime": {
     "end_time": "2021-04-27T23:01:39.673217Z",
     "start_time": "2021-04-27T23:01:39.669388Z"
    }
   },
   "outputs": [],
   "source": [
    "table[3,0] = u_spca_acc\n",
    "table[3,1] = v_spca_acc\n",
    "table[3,2] = spca_acc"
   ]
  },
  {
   "cell_type": "code",
   "execution_count": 268,
   "id": "representative-basin",
   "metadata": {
    "ExecuteTime": {
     "end_time": "2021-04-27T23:03:25.929810Z",
     "start_time": "2021-04-27T23:03:25.915899Z"
    }
   },
   "outputs": [
    {
     "data": {
      "text/html": [
       "<div>\n",
       "<style scoped>\n",
       "    .dataframe tbody tr th:only-of-type {\n",
       "        vertical-align: middle;\n",
       "    }\n",
       "\n",
       "    .dataframe tbody tr th {\n",
       "        vertical-align: top;\n",
       "    }\n",
       "\n",
       "    .dataframe thead th {\n",
       "        text-align: right;\n",
       "    }\n",
       "</style>\n",
       "<table border=\"1\" class=\"dataframe\">\n",
       "  <thead>\n",
       "    <tr style=\"text-align: right;\">\n",
       "      <th></th>\n",
       "      <th>Accuracy for u</th>\n",
       "      <th>Accuracy for v</th>\n",
       "      <th>Accuracy for X</th>\n",
       "      <th>Method</th>\n",
       "    </tr>\n",
       "  </thead>\n",
       "  <tbody>\n",
       "    <tr>\n",
       "      <th>0</th>\n",
       "      <td>0.00</td>\n",
       "      <td>0.00</td>\n",
       "      <td>0.0764</td>\n",
       "      <td>SVD</td>\n",
       "    </tr>\n",
       "    <tr>\n",
       "      <th>1</th>\n",
       "      <td>0.74</td>\n",
       "      <td>0.68</td>\n",
       "      <td>0.9168</td>\n",
       "      <td>SSVD</td>\n",
       "    </tr>\n",
       "    <tr>\n",
       "      <th>2</th>\n",
       "      <td>0.75</td>\n",
       "      <td>0.68</td>\n",
       "      <td>0.9200</td>\n",
       "      <td>SPCA (with alpha = 5)</td>\n",
       "    </tr>\n",
       "    <tr>\n",
       "      <th>3</th>\n",
       "      <td>0.52</td>\n",
       "      <td>0.46</td>\n",
       "      <td>0.9196</td>\n",
       "      <td>SPCA (with alpha = 1)</td>\n",
       "    </tr>\n",
       "  </tbody>\n",
       "</table>\n",
       "</div>"
      ],
      "text/plain": [
       "   Accuracy for u  Accuracy for v  Accuracy for X                 Method\n",
       "0            0.00            0.00          0.0764                    SVD\n",
       "1            0.74            0.68          0.9168                   SSVD\n",
       "2            0.75            0.68          0.9200  SPCA (with alpha = 5)\n",
       "3            0.52            0.46          0.9196  SPCA (with alpha = 1)"
      ]
     },
     "execution_count": 268,
     "metadata": {},
     "output_type": "execute_result"
    }
   ],
   "source": [
    "df = pd.DataFrame(table)\n",
    "df.columns = ['Accuracy for u', 'Accuracy for v', 'Accuracy for X']\n",
    "df['Method'] = ['SVD', 'SSVD','SPCA (with alpha = 5)', 'SPCA (with alpha = 1)']\n",
    "df"
   ]
  },
  {
   "cell_type": "markdown",
   "id": "welsh-piano",
   "metadata": {},
   "source": [
    "## Conclusion and Discussion\n",
    "\n",
    "SSVD modifies SVD with penalized regression to obtain sparse singular vectors for lower rank approximation to identify checkerboard patterns that are important for HDLSS data sets. As the sparsity automatically chooses important rows and columns, it addresses the potential interactions in the data, and therefore can be used as a nice tool for biclustering. \n",
    "\n",
    "We've seen the applications and performance of SSVD on two real world data sets. However, this algorithm leaves great potential directions for further study. First of all, the paper chooses adaptive lasso penalty as the sparsity-inducing penalty. We can explore other kinds of penalties that may be used for obtaining sparse singular vectors. Possible choices can be elastic net penalty, adaptive grouping penalty, and OSCAR penalty, etc. Secondly, as we no longer have iid samples in biclustering problems, we may want to develop similar asymptotic results for SSVD."
   ]
  },
  {
   "cell_type": "markdown",
   "id": "spare-venture",
   "metadata": {},
   "source": [
    "## References"
   ]
  },
  {
   "cell_type": "markdown",
   "id": "simple-portfolio",
   "metadata": {},
   "source": [
    "Lee, Mihee, et al. \"Biclustering via sparse singular value decomposition.\" Biometrics 66.4 (2010): 1087-1095."
   ]
  },
  {
   "cell_type": "markdown",
   "id": "banner-interpretation",
   "metadata": {},
   "source": [
    "Chen, Yongdong, and Qinghua Huang. \"An approach based on biclustering and neural network for classification of lesions in breast ultrasound.\" 2016 International Conference on Advanced Robotics and Mechatronics (ICARM). IEEE, 2016."
   ]
  },
  {
   "cell_type": "markdown",
   "id": "encouraging-subscriber",
   "metadata": {},
   "source": [
    "Lin, Yuqi, et al. \"Classifying Breast Cancer Subtypes Using Deep Neural Networks Based on Multi-Omics Data.\" Genes 11.8 (2020): 888."
   ]
  }
 ],
 "metadata": {
  "kernelspec": {
   "display_name": "Python 3",
   "language": "python",
   "name": "python3"
  },
  "language_info": {
   "codemirror_mode": {
    "name": "ipython",
    "version": 3
   },
   "file_extension": ".py",
   "mimetype": "text/x-python",
   "name": "python",
   "nbconvert_exporter": "python",
   "pygments_lexer": "ipython3",
   "version": "3.7.9"
  },
  "latex_envs": {
   "LaTeX_envs_menu_present": true,
   "autoclose": false,
   "autocomplete": true,
   "bibliofile": "biblio.bib",
   "cite_by": "apalike",
   "current_citInitial": 1,
   "eqLabelWithNumbers": true,
   "eqNumInitial": 1,
   "hotkeys": {
    "equation": "Ctrl-E",
    "itemize": "Ctrl-I"
   },
   "labels_anchors": false,
   "latex_user_defs": false,
   "report_style_numbering": false,
   "user_envs_cfg": false
  },
  "varInspector": {
   "cols": {
    "lenName": 16,
    "lenType": 16,
    "lenVar": 40
   },
   "kernels_config": {
    "python": {
     "delete_cmd_postfix": "",
     "delete_cmd_prefix": "del ",
     "library": "var_list.py",
     "varRefreshCmd": "print(var_dic_list())"
    },
    "r": {
     "delete_cmd_postfix": ") ",
     "delete_cmd_prefix": "rm(",
     "library": "var_list.r",
     "varRefreshCmd": "cat(var_dic_list()) "
    }
   },
   "types_to_exclude": [
    "module",
    "function",
    "builtin_function_or_method",
    "instance",
    "_Feature"
   ],
   "window_display": false
  }
 },
 "nbformat": 4,
 "nbformat_minor": 5
}
